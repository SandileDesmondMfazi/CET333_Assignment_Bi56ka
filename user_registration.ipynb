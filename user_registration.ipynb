{
 "cells": [
  {
   "cell_type": "code",
   "execution_count": 1,
   "metadata": {},
   "outputs": [],
   "source": [
    "import requests"
   ]
  },
  {
   "cell_type": "code",
   "execution_count": 2,
   "metadata": {},
   "outputs": [],
   "source": [
    "# Base URL of the Flask application\n",
    "BASE_URL = \"https://sandilem.pythonanywhere.com/api/\""
   ]
  },
  {
   "cell_type": "code",
   "execution_count": 3,
   "metadata": {},
   "outputs": [],
   "source": [
    "def register_user(username):\n",
    "    url = f\"{BASE_URL}/register\"\n",
    "    payload = {\"username\": username}\n",
    "    response = requests.post(url, json=payload)\n",
    "    if response.status_code == 200:\n",
    "        data = response.json()\n",
    "        print(\"Registration successful!\")\n",
    "        print(\"Username:\", data.get(\"username\"))\n",
    "        print(\"Token:\", data.get(\"token\"))\n",
    "    else:\n",
    "        print(\"Registration failed:\", response.text)\n",
    "\n",
    "def generate_api_token():\n",
    "    url = f\"{BASE_URL}/token\"\n",
    "    response = requests.get(url)\n",
    "    if response.status_code == 200:\n",
    "        data = response.json()\n",
    "        print(\"API token:\", data.get(\"token\"))\n",
    "    else:\n",
    "        print(\"Failed to generate API token:\", response.text)\n",
    "\n",
    "def access_api(username, token):\n",
    "    url = f\"{BASE_URL}/olympicdata\"\n",
    "    headers = {\"Authorization\": f\"Bearer {token}\"}\n",
    "    response = requests.get(url, headers=headers)\n",
    "    if response.status_code == 200:\n",
    "        print(\"Olympic data for\", username + \": It worked look\", response.json())\n",
    "    else:\n",
    "        print(\"Failed to access API:\", response.text)\n"
   ]
  },
  {
   "cell_type": "code",
   "execution_count": 4,
   "metadata": {},
   "outputs": [
    {
     "name": "stdout",
     "output_type": "stream",
     "text": [
      "Registration successful!\n",
      "Username: Sandile_M\n",
      "Token: 07kQLnf9rF066qH_7uQowuGJtJNXjX64xZuGhaj-gb4\n"
     ]
    }
   ],
   "source": [
    "# Register a new user and obtain the API token\n",
    "register_user(\"Sandile_M\")"
   ]
  },
  {
   "cell_type": "code",
   "execution_count": 5,
   "metadata": {},
   "outputs": [
    {
     "name": "stdout",
     "output_type": "stream",
     "text": [
      "API token: Uj49EwJ8uUXjdRh46Q0rWhbVeRc5GIheNZp17n8NkjI\n"
     ]
    }
   ],
   "source": [
    "# Generate a new API token\n",
    "generate_api_token()"
   ]
  },
  {
   "cell_type": "code",
   "execution_count": 6,
   "metadata": {},
   "outputs": [
    {
     "name": "stdout",
     "output_type": "stream",
     "text": [
      "Failed to access API: {\"error\":\"Invalid API token\"}\n",
      "\n"
     ]
    }
   ],
   "source": [
    "# Access the API endpoint with the obtained username and token\n",
    "access_api(\"Sandile_M\", \"wBJzduM_qqYITSihWpIY8SzPx1A1HX4o0U8Lp0NnG1o\")"
   ]
  }
 ],
 "metadata": {
  "kernelspec": {
   "display_name": "Final_CET333",
   "language": "python",
   "name": "python3"
  },
  "language_info": {
   "codemirror_mode": {
    "name": "ipython",
    "version": 3
   },
   "file_extension": ".py",
   "mimetype": "text/x-python",
   "name": "python",
   "nbconvert_exporter": "python",
   "pygments_lexer": "ipython3",
   "version": "3.11.9"
  }
 },
 "nbformat": 4,
 "nbformat_minor": 2
}
