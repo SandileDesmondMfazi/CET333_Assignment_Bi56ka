{
 "cells": [
  {
   "cell_type": "code",
   "execution_count": 44,
   "metadata": {},
   "outputs": [],
   "source": [
    "import numpy as np\n",
    "import pandas as pd\n",
    "from sklearn.model_selection import RandomizedSearchCV, KFold, cross_val_score\n",
    "from sklearn.ensemble import RandomForestRegressor, GradientBoostingRegressor\n",
    "from xgboost import XGBRegressor\n",
    "from sklearn.preprocessing import StandardScaler\n",
    "from sklearn.pipeline import Pipeline\n",
    "from sklearn.preprocessing import LabelEncoder, StandardScaler\n",
    "import funolympics_data_processing"
   ]
  },
  {
   "cell_type": "code",
   "execution_count": 2,
   "metadata": {},
   "outputs": [],
   "source": [
    "df = pd.DataFrame()\n",
    "\n",
    "def process_data(api_token, url):\n",
    "        new_df = funolympics_data_processing.process_data(api_token, url)\n",
    "        return pd.concat([df, new_df.loc[:np.random.choice(range(4500, 5000))]], ignore_index=True)\n",
    "\n",
    "def filter_data(df):\n",
    "    return df[df['Country'] != 'ZZ']"
   ]
  },
  {
   "cell_type": "code",
   "execution_count": 51,
   "metadata": {},
   "outputs": [],
   "source": [
    "API_TOKEN = \"fouNeeK3EUgh4Ap3gY7p9-E3iBiS0KMSQ84oWCu6ddo\" # For Sandile_M\n",
    "URL = \"http://127.0.0.1:5000/api/olympicdata\""
   ]
  },
  {
   "cell_type": "code",
   "execution_count": null,
   "metadata": {},
   "outputs": [],
   "source": [
    "# Load the data\n",
    "\n",
    "for i in range(15):\n",
    "    df = filter_data(process_data(API_TOKEN, URL))"
   ]
  },
  {
   "cell_type": "code",
   "execution_count": 53,
   "metadata": {},
   "outputs": [],
   "source": [
    "df1 = df.copy()"
   ]
  },
  {
   "cell_type": "code",
   "execution_count": 54,
   "metadata": {},
   "outputs": [
    {
     "name": "stdout",
     "output_type": "stream",
     "text": [
      "timestamp                0\n",
      "IP                       0\n",
      "request_method           0\n",
      "resource                 0\n",
      "status_code              0\n",
      "response_size            0\n",
      "user_agent               0\n",
      "elapsed_time             0\n",
      "Country                  0\n",
      "Region                   0\n",
      "City                     0\n",
      "previous_timestamp    2357\n",
      "session_duration         0\n",
      "Device                   0\n",
      "Operating_System         0\n",
      "Browser                  0\n",
      "Event                    0\n",
      "Full Country Name        0\n",
      "Continent                0\n",
      "resource_group           0\n",
      "sports_group             0\n",
      "dtype: int64\n"
     ]
    }
   ],
   "source": [
    "print(df1.isnull().sum())"
   ]
  },
  {
   "cell_type": "code",
   "execution_count": 55,
   "metadata": {},
   "outputs": [],
   "source": [
    "# Count the unique IP addresses for each resource\n",
    "df1['views'] = df1.groupby('resource')['resource'].transform('count')"
   ]
  },
  {
   "cell_type": "code",
   "execution_count": 56,
   "metadata": {},
   "outputs": [
    {
     "data": {
      "text/plain": [
       "Index(['timestamp', 'IP', 'request_method', 'resource', 'status_code',\n",
       "       'response_size', 'user_agent', 'elapsed_time', 'Country', 'Region',\n",
       "       'City', 'previous_timestamp', 'session_duration', 'Device',\n",
       "       'Operating_System', 'Browser', 'Event', 'Full Country Name',\n",
       "       'Continent', 'resource_group', 'sports_group', 'views'],\n",
       "      dtype='object')"
      ]
     },
     "execution_count": 56,
     "metadata": {},
     "output_type": "execute_result"
    }
   ],
   "source": [
    "df1.columns"
   ]
  },
  {
   "cell_type": "code",
   "execution_count": 57,
   "metadata": {},
   "outputs": [],
   "source": [
    "df1['timestamp'] = pd.to_datetime(df1['timestamp'])\n",
    "df1['hour'] = df1['timestamp'].dt.hour\n",
    "df1['day'] = df1['timestamp'].dt.day\n",
    "df1['month'] = df1['timestamp'].dt.month\n",
    "df1['year'] = df1['timestamp'].dt.year\n",
    "\n",
    "# Encode categorical features\n",
    "label_encoders = {}\n",
    "categorical_columns = ['resource', 'status_code', 'Full Country Name', 'Region', 'City', 'Device', 'Operating_System', 'Browser', 'Event', 'resource_group', 'sports_group']\n",
    "for col in categorical_columns:\n",
    "    le = LabelEncoder()\n",
    "    df1[col] = le.fit_transform(df1[col])\n",
    "    label_encoders[col] = le\n",
    "\n",
    "# Drop unnecessary columns\n",
    "df1 = df1.drop(columns=['timestamp', 'user_agent', 'previous_timestamp', 'Country', 'Continent', 'response_size', 'request_method', 'IP'])\n"
   ]
  },
  {
   "cell_type": "code",
   "execution_count": 58,
   "metadata": {},
   "outputs": [
    {
     "name": "stdout",
     "output_type": "stream",
     "text": [
      "views                1.000000\n",
      "sports_group         0.258768\n",
      "resource_group       0.068066\n",
      "session_duration     0.009993\n",
      "Region               0.006892\n",
      "Device               0.005626\n",
      "Browser              0.001722\n",
      "City                 0.001376\n",
      "Full Country Name    0.000108\n",
      "day                 -0.001266\n",
      "Operating_System    -0.002818\n",
      "hour                -0.002868\n",
      "status_code         -0.003334\n",
      "resource            -0.067233\n",
      "Event               -0.147266\n",
      "month                     NaN\n",
      "year                      NaN\n",
      "Name: views, dtype: float64\n"
     ]
    }
   ],
   "source": [
    "# Separate numeric columns for correlation analysis\n",
    "numeric_df = df1.select_dtypes(include=[np.number])\n",
    "\n",
    "# Correlation analysis\n",
    "corr = numeric_df.corr()\n",
    "print(corr['views'].sort_values(ascending=False))"
   ]
  },
  {
   "cell_type": "code",
   "execution_count": 59,
   "metadata": {},
   "outputs": [
    {
     "data": {
      "text/plain": [
       "(249943, 18)"
      ]
     },
     "execution_count": 59,
     "metadata": {},
     "output_type": "execute_result"
    }
   ],
   "source": [
    "df1.shape"
   ]
  },
  {
   "cell_type": "code",
   "execution_count": 60,
   "metadata": {},
   "outputs": [
    {
     "name": "stdout",
     "output_type": "stream",
     "text": [
      "RandomForest Cross-validation MSE scores: [0. 0. 0. 0. 0. 0. 0. 0. 0. 0.]\n",
      "RandomForest Mean cross-validation MSE: -0.0\n",
      "RandomForest Standard deviation of cross-validation MSE: 0.0\n",
      "GradientBoosting Cross-validation MSE scores: [824.58424012 754.28688152 889.24757918 907.12387997 815.58733171\n",
      " 797.71686496 806.76402885 773.49992626 785.34496647 782.30529556]\n",
      "GradientBoosting Mean cross-validation MSE: 813.6460994597683\n",
      "GradientBoosting Standard deviation of cross-validation MSE: 46.68685681199881\n",
      "XGBoost Cross-validation MSE scores: [3.50984198e-07 2.67950242e-07 5.26953230e-07 3.35201603e-07\n",
      " 5.03575066e-07 2.87296582e-07 4.34073675e-07 6.37846488e-07\n",
      " 3.63923630e-07 2.16335719e-07]\n",
      "XGBoost Mean cross-validation MSE: 3.9241404345158196e-07\n",
      "XGBoost Standard deviation of cross-validation MSE: 1.2481028389775477e-07\n"
     ]
    }
   ],
   "source": [
    "# Define features and target\n",
    "X = df1.drop(columns=['views'])\n",
    "y = df1['views']\n",
    "\n",
    "# Models to evaluate\n",
    "models = {\n",
    "    'RandomForest': RandomForestRegressor(random_state=42),\n",
    "    'GradientBoosting': GradientBoostingRegressor(random_state=42),\n",
    "    'XGBoost': XGBRegressor(random_state=42)\n",
    "}\n",
    "\n",
    "# Set up k-fold cross-validation\n",
    "kf = KFold(n_splits=10, shuffle=True, random_state=42)\n",
    "\n",
    "for model_name, model in models.items():\n",
    "    pipeline = Pipeline([\n",
    "        ('scaler', StandardScaler()),\n",
    "        ('regressor', model)\n",
    "    ])\n",
    "    \n",
    "    # Evaluate the model using cross-validation\n",
    "    cv_scores = cross_val_score(pipeline, X, y, cv=kf, scoring='neg_mean_squared_error')\n",
    "    \n",
    "    # Output the scores\n",
    "    print(f\"{model_name} Cross-validation MSE scores:\", -cv_scores)\n",
    "    print(f\"{model_name} Mean cross-validation MSE:\", -np.mean(cv_scores))\n",
    "    print(f\"{model_name} Standard deviation of cross-validation MSE:\", np.std(-cv_scores))"
   ]
  },
  {
   "cell_type": "code",
   "execution_count": 61,
   "metadata": {},
   "outputs": [
    {
     "name": "stdout",
     "output_type": "stream",
     "text": [
      "Best model cross-validation MSE scores: [0.08667966 0.14928696 0.0979177  0.12260453 0.11782089 0.16933735\n",
      " 0.09358886 0.11244439 0.09957146 0.14611824]\n",
      "Best model mean cross-validation MSE: 0.11953700314217272\n",
      "Best model standard deviation of cross-validation MSE: 0.02598708232748247\n"
     ]
    }
   ],
   "source": [
    "# Define GradientBoostingRegressor model\n",
    "gbr_model = GradientBoostingRegressor(random_state=42)\n",
    "\n",
    "# Define a pipeline\n",
    "pipeline = Pipeline([\n",
    "    ('scaler', StandardScaler()),\n",
    "    ('regressor', gbr_model)\n",
    "])\n",
    "\n",
    "# Define parameter distribution for RandomizedSearchCV\n",
    "param_dist = {\n",
    "    'regressor__n_estimators': [50, 100, 200],\n",
    "    'regressor__max_depth': [3, 5, 10],\n",
    "    'regressor__min_samples_split': [2, 5, 10]\n",
    "}\n",
    "\n",
    "# Set up RandomizedSearchCV\n",
    "rand_search = RandomizedSearchCV(pipeline, param_dist, cv=3, n_iter=10, random_state=42, n_jobs=-1)\n",
    "\n",
    "# Fit the model\n",
    "rand_search.fit(X, y)\n",
    "\n",
    "# Best model\n",
    "best_model = rand_search.best_estimator_\n",
    "\n",
    "# Best model performance\n",
    "kf = KFold(n_splits=10, shuffle=True, random_state=42)\n",
    "best_cv_scores = cross_val_score(best_model, X, y, cv=kf, scoring='neg_mean_squared_error')\n",
    "\n",
    "# Output the best model's scores\n",
    "print(\"Best model cross-validation MSE scores:\", -best_cv_scores)\n",
    "print(\"Best model mean cross-validation MSE:\", -np.mean(best_cv_scores))\n",
    "print(\"Best model standard deviation of cross-validation MSE:\", np.std(-best_cv_scores))"
   ]
  },
  {
   "cell_type": "code",
   "execution_count": 63,
   "metadata": {},
   "outputs": [
    {
     "data": {
      "image/png": "[encoded data removed]",
      "text/plain": [
       "<Figure size 1000x600 with 1 Axes>"
      ]
     },
     "metadata": {},
     "output_type": "display_data"
    }
   ],
   "source": [
    "import matplotlib.pyplot as plt\n",
    "\n",
    "# Extract the trained GradientBoostingRegressor from the pipeline\n",
    "best_gbr = best_model.named_steps['regressor']\n",
    "\n",
    "# Get feature importances\n",
    "feature_importances = best_gbr.feature_importances_\n",
    "features = X.columns\n",
    "\n",
    "# Create a DataFrame for better visualization\n",
    "importance_df = pd.DataFrame({'Feature': features, 'Importance': feature_importances})\n",
    "importance_df = importance_df.sort_values(by='Importance', ascending=False)\n",
    "\n",
    "# Plot feature importances\n",
    "plt.figure(figsize=(10, 6))\n",
    "plt.barh(importance_df['Feature'], importance_df['Importance'])\n",
    "plt.xlabel('Feature Importance')\n",
    "plt.ylabel('Feature')\n",
    "plt.title('Feature Importance in GradientBoostingRegressor')\n",
    "plt.gca().invert_yaxis()\n",
    "plt.show()"
   ]
  },
  {
   "cell_type": "code",
   "execution_count": 64,
   "metadata": {},
   "outputs": [
    {
     "data": {
      "text/plain": [
       "['label_encoders.pkl']"
      ]
     },
     "execution_count": 64,
     "metadata": {},
     "output_type": "execute_result"
    }
   ],
   "source": [
    "import joblib\n",
    "\n",
    "# Save the best model and label encoders\n",
    "joblib.dump(best_model, 'best_gradient_boosting_model.pkl')\n",
    "joblib.dump(label_encoders, 'label_encoders.pkl')"
   ]
  }
 ],
 "metadata": {
  "kernelspec": {
   "display_name": "Final_CET333",
   "language": "python",
   "name": "python3"
  },
  "language_info": {
   "codemirror_mode": {
    "name": "ipython",
    "version": 3
   },
   "file_extension": ".py",
   "mimetype": "text/x-python",
   "name": "python",
   "nbconvert_exporter": "python",
   "pygments_lexer": "ipython3",
   "version": "3.11.9"
  }
 },
 "nbformat": 4,
 "nbformat_minor": 2
}
