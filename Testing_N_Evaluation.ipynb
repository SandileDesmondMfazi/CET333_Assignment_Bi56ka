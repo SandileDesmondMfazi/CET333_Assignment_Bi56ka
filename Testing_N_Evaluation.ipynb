{
 "cells": [
  {
   "cell_type": "code",
   "execution_count": 8,
   "metadata": {},
   "outputs": [],
   "source": [
    "import pandas as pd\n",
    "import funolympics_data_processing as fdp\n",
    "import numpy as np"
   ]
  },
  {
   "cell_type": "code",
   "execution_count": 2,
   "metadata": {},
   "outputs": [],
   "source": [
    "def process_data(api_token, url):\n",
    "    new_df = fdp.process_data(api_token, url)\n",
    "    return new_df\n"
   ]
  },
  {
   "cell_type": "markdown",
   "metadata": {},
   "source": [
    "## 1. Functional Testing\n",
    "### FR01: Ingestion of Web Server Log Data"
   ]
  },
  {
   "cell_type": "code",
   "execution_count": 10,
   "metadata": {},
   "outputs": [],
   "source": [
    "api_token = \"Z7yqfOQVNRuDbp6QQmU-RCilJDqDA2ia86U8EUebJy4\"\n",
    "url = \"http://localhost:5000/api/olympicdata\"\n",
    "\n",
    "def test_ingest_data(mock_api_call):\n",
    "    # Mock API call to return sample data\n",
    "    mock_api_call.return_value = [{\"timestamp\": \"2022-01-01 12:00:00\", \"resource\": \"/events\", \"status_code\": 200}]\n",
    "    data = process_data(\"api_token\", \"url\")\n",
    "    assert len(data) == 1\n",
    "    assert data[0][\"timestamp\"] == \"2022-01-01 12:00:00\"\n",
    "    assert data[0][\"resource\"] == \"/events\"\n",
    "    assert data[0][\"status_code\"] == 200"
   ]
  },
  {
   "cell_type": "code",
   "execution_count": 13,
   "metadata": {},
   "outputs": [
    {
     "name": "stderr",
     "output_type": "stream",
     "text": [
      "c:\\Users\\6789s\\OneDrive\\Desktop\\Final_CET333_Project\\funolympics_data_processing.py:198: FutureWarning: A value is trying to be set on a copy of a DataFrame or Series through chained assignment using an inplace method.\n",
      "The behavior will change in pandas 3.0. This inplace method will never work because the intermediate object on which we are setting values always behaves as a copy.\n",
      "\n",
      "For example, when doing 'df[col].method(value, inplace=True)', try using 'df.method({col: value}, inplace=True)' or df[col] = df[col].method(value) instead, to perform the operation inplace on the original object.\n",
      "\n",
      "\n",
      "  merged_df['session_duration'].fillna(0, inplace=True)\n"
     ]
    },
    {
     "data": {
      "text/plain": [
       "5946   2024-05-13 01:00:27\n",
       "Name: timestamp, dtype: datetime64[ns]"
      ]
     },
     "execution_count": 13,
     "metadata": {},
     "output_type": "execute_result"
    }
   ],
   "source": [
    "data = process_data(api_token, url)\n",
    "data.head(1)['timestamp']"
   ]
  },
  {
   "cell_type": "code",
   "execution_count": 6,
   "metadata": {},
   "outputs": [
    {
     "name": "stderr",
     "output_type": "stream",
     "text": [
      "c:\\Users\\6789s\\OneDrive\\Desktop\\Final_CET333_Project\\funolympics_data_processing.py:198: FutureWarning: A value is trying to be set on a copy of a DataFrame or Series through chained assignment using an inplace method.\n",
      "The behavior will change in pandas 3.0. This inplace method will never work because the intermediate object on which we are setting values always behaves as a copy.\n",
      "\n",
      "For example, when doing 'df[col].method(value, inplace=True)', try using 'df.method({col: value}, inplace=True)' or df[col] = df[col].method(value) instead, to perform the operation inplace on the original object.\n",
      "\n",
      "\n",
      "  merged_df['session_duration'].fillna(0, inplace=True)\n"
     ]
    }
   ],
   "source": [
    "test_web_server_log_ingestion()"
   ]
  },
  {
   "cell_type": "markdown",
   "metadata": {},
   "source": [
    "### FRO2"
   ]
  },
  {
   "cell_type": "code",
   "execution_count": 9,
   "metadata": {},
   "outputs": [],
   "source": [
    "from funolympics_data_processing import get_olympic_data, parse_log_data\n",
    "\n",
    "api_token = \"Z7yqfOQVNRuDbp6QQmU-RCilJDqDA2ia86U8EUebJy4\"\n",
    "url = \"http://localhost:5000/api/olympicdata\"\n",
    "\n",
    "data = get_olympic_data(api_token, url, limit=12000)\n",
    "parsed_data = parse_log_data(data)\n",
    "df = pd.DataFrame(parsed_data)\n",
    "\n",
    "# Simulate missing or corrupt data\n",
    "corrupt_data = df.copy()\n",
    "corrupt_data.at[0, 'Device'] = None  # Introduce a missing value\n",
    "corrupt_data = process_data(corrupt_data)  # Process corrupt data\n",
    "\n",
    "# Check if missing data is handled correctly\n",
    "assert corrupt_data['Device'].isnull().sum() == 1  # Ensure missing data is identified and handled\n",
    "\n"
   ]
  }
 ],
 "metadata": {
  "kernelspec": {
   "display_name": "Final_CET333",
   "language": "python",
   "name": "python3"
  },
  "language_info": {
   "codemirror_mode": {
    "name": "ipython",
    "version": 3
   },
   "file_extension": ".py",
   "mimetype": "text/x-python",
   "name": "python",
   "nbconvert_exporter": "python",
   "pygments_lexer": "ipython3",
   "version": "3.11.9"
  }
 },
 "nbformat": 4,
 "nbformat_minor": 2
}
